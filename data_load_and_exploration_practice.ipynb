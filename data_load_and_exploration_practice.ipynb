{
 "cells": [
  {
   "cell_type": "markdown",
   "id": "4691a8d6",
   "metadata": {},
   "source": [
    "##  Load the data\n",
    "\n",
    "This code is to understand `data.py`.\n",
    "\n",
    "This code is to load `PTVflow3D` dataset."
   ]
  },
  {
   "cell_type": "code",
   "execution_count": 34,
   "id": "3b755347",
   "metadata": {},
   "outputs": [],
   "source": [
    "import os\n",
    "import sys\n",
    "import glob\n",
    "import numpy as np\n",
    "from scipy.spatial.transform import Rotation\n",
    "from torch.utils.data import Dataset"
   ]
  },
  {
   "cell_type": "code",
   "execution_count": 35,
   "id": "045f3040",
   "metadata": {},
   "outputs": [
    {
     "name": "stdout",
     "output_type": "stream",
     "text": [
      "keys of data: ['pos1', 'pos2', 'flow']\n",
      "shape of pos1,pos2 and flow: (2048, 3) (2048, 3) (2048, 3)\n"
     ]
    }
   ],
   "source": [
    "fp = 'data/training_set/PTVflow3D_norm/TRAINisotropic1024coarse_s025_t003_00001.npz'\n",
    "data = np.load(fp)\n",
    "#pos1 = data['pos1'].astype('float32')            \n",
    "keys = data.files\n",
    "print('keys of data:',keys)\n",
    "print('shape of pos1,pos2 and flow:',data['pos1'].shape,data['pos2'].shape,data['flow'].shape)"
   ]
  },
  {
   "cell_type": "markdown",
   "id": "80fcea6e",
   "metadata": {},
   "source": [
    "## Deal with training data\n",
    "\n",
    "Note here index of n2 and index of n1 are not the same.\n",
    "\n",
    "Note here index of n1 and index of flow are the same.\n",
    "\n",
    "Then use the center of `pos1`  as the origin. `flow` are relative values so we do not need to remove them. "
   ]
  },
  {
   "cell_type": "code",
   "execution_count": 43,
   "id": "65859e0c",
   "metadata": {},
   "outputs": [],
   "source": [
    "npoints = 512\n",
    "n1 = pos1.shape[0]\n",
    "sample_idx1 = np.random.choice(n1, npoints, replace=False)\n",
    "n2 = pos2.shape[0]\n",
    "sample_idx2 = np.random.choice(n2, npoints, replace=False)\n",
    "pos1 = pos1[sample_idx1, :]\n",
    "pos2 = pos2[sample_idx2, :] \n",
    "flow = flow[sample_idx1, :]"
   ]
  },
  {
   "cell_type": "code",
   "execution_count": 44,
   "id": "24c09494",
   "metadata": {},
   "outputs": [],
   "source": [
    "# translation\n",
    "pos1_center = np.mean(pos1, 0)\n",
    "pos1 -= pos1_center\n",
    "pos2 -= pos1_center"
   ]
  },
  {
   "cell_type": "markdown",
   "id": "ead18cd9",
   "metadata": {},
   "source": [
    "## Deal with test data\n",
    "\n",
    "All use first n points.\n",
    "\n",
    "use the center of `pos1`  as the origin"
   ]
  },
  {
   "cell_type": "code",
   "execution_count": 45,
   "id": "99d7af05",
   "metadata": {},
   "outputs": [],
   "source": [
    "pos1 = pos1[:npoints, :]\n",
    "pos2 = pos2[:npoints, :]\n",
    "\n",
    "flow = flow[:npoints, :]\n",
    "\n",
    "pos1_center = np.mean(pos1, 0)\n",
    "pos1 -= pos1_center\n",
    "pos2 -= pos1_center"
   ]
  },
  {
   "cell_type": "markdown",
   "id": "d0f231ca",
   "metadata": {},
   "source": [
    "## Understand the Dataset Class"
   ]
  },
  {
   "cell_type": "code",
   "execution_count": 11,
   "id": "648f6c25",
   "metadata": {},
   "outputs": [],
   "source": [
    "class FluidflowDataset3D(Dataset):\n",
    "    def __init__(self, npoints=2048, root='data_preprocessing/data_processed_maxcut_35_both_mask_20k_2k', partition='train'):\n",
    "        self.npoints = npoints\n",
    "        self.partition = partition\n",
    "        self.root = root\n",
    "        if self.partition=='train':\n",
    "            self.datapath = glob.glob(os.path.join(self.root, 'TRAIN*.npz'))\n",
    "        else:\n",
    "            self.datapath = glob.glob(os.path.join(self.root, 'TEST*.npz'))\n",
    "        self.cache = {}\n",
    "        self.cache_size = 30000\n",
    "\n",
    "        ###### deal with one bad datapoint with nan value\n",
    "        self.datapath = [d for d in self.datapath if 'TRAIN_C_0140_left_0006-0' not in d]\n",
    "        ######\n",
    "        self.datapath.sort()\n",
    "        print('length of ',self.partition, ': ',len(self.datapath))\n",
    "        # print(self.partition, ': ',self.datapath)\n",
    "        # datalist=np.array(self.datapath)\n",
    "        # np.save('test_result/eval_allflow/datalist.npy', datalist)\n",
    "\n",
    "    def __getitem__(self, index):\n",
    "        if index in self.cache:\n",
    "            # pos1, pos2, color1, color2, flow = self.cache[index]\n",
    "            pos1, pos2, flow = self.cache[index]\n",
    "        else:\n",
    "            fn = self.datapath[index] # data/training_set/PTVflow3D_norm/TRAINisotropic1024coarse_s025_t003_00001.npz\n",
    "            with open(fn, 'rb') as fp:\n",
    "                data = np.load(fp)\n",
    "                pos1 = data['pos1'].astype('float32')\n",
    "                pos2 = data['pos2'].astype('float32')\n",
    "                # color1 = data['intensity1'].astype('float32')\n",
    "                # color2 = data['intensity2'].astype('float32')\n",
    "                flow = data['flow'].astype('float32')\n",
    "                #mask1 = data['valid_mask1']\n",
    "            \n",
    "            # if 's025' in fn:\n",
    "            #     pos1 = pos1 * 8.\n",
    "            #     pos2 = pos2 * 8.\n",
    "            #     flow = flow * 8.\n",
    "            # elif 's050' in fn:\n",
    "            #     pos1 = pos1 * 4.\n",
    "            #     pos2 = pos2 * 4.\n",
    "            #     flow = flow * 4.\n",
    "            # elif 's100' in fn:\n",
    "            #     pos1 = pos1 * 2.\n",
    "            #     pos2 = pos2 * 2.\n",
    "            #     flow = flow * 2.\n",
    "            # elif 'beltrami' in fn :\n",
    "            #     pos1 = (pos1 + 1.) * np.pi\n",
    "            #     pos2 = (pos2 + 1.) * np.pi\n",
    "            #     flow = flow * np.pi\n",
    "\n",
    "            if len(self.cache) < self.cache_size:\n",
    "                # self.cache[index] = (pos1, pos2, color1, color2, flow)\n",
    "                self.cache[index] = (pos1, pos2, flow)\n",
    "\n",
    "        if self.partition == 'train':\n",
    "            n1 = pos1.shape[0]\n",
    "            sample_idx1 = np.random.choice(n1, self.npoints, replace=False)\n",
    "            n2 = pos2.shape[0]\n",
    "            sample_idx2 = np.random.choice(n2, self.npoints, replace=False)\n",
    "            \n",
    "\n",
    "            pos1 = pos1[sample_idx1, :]\n",
    "            pos2 = pos2[sample_idx2, :]\n",
    "            # color1 = color1[sample_idx1, :]\n",
    "            # color2 = color2[sample_idx2, :]\n",
    "            flow = flow[sample_idx1, :]\n",
    "            #mask1 = mask1[sample_idx1]\n",
    "        else:\n",
    "            pos1 = pos1[:self.npoints, :]\n",
    "            pos2 = pos2[:self.npoints, :]\n",
    "            # color1 = color1[:self.npoints, :]\n",
    "            # color2 = color2[:self.npoints, :]\n",
    "            flow = flow[:self.npoints, :]\n",
    "            #mask1 = mask1[:self.npoints]\n",
    "\n",
    "        pos1_center = np.mean(pos1, 0)\n",
    "        pos1 -= pos1_center\n",
    "        pos2 -= pos1_center\n",
    "        return pos1, pos2, flow # color1, color2, "
   ]
  },
  {
   "cell_type": "code",
   "execution_count": 12,
   "id": "1821eee2",
   "metadata": {},
   "outputs": [
    {
     "name": "stdout",
     "output_type": "stream",
     "text": [
      "length of  train :  1\n",
      "length of  test :  10\n"
     ]
    }
   ],
   "source": [
    "num_points = 512\n",
    "folder = 'PTVflow3D_norm' # 'data_sample'\n",
    "dataset_path = os.path.join('data/training_set', folder)\n",
    "train_dataset = FluidflowDataset3D(npoints=num_points, root = dataset_path, partition='train')\n",
    "val_dataset = FluidflowDataset3D(npoints= num_points, root = dataset_path, partition='test')\n",
    "test_dataset = val_dataset"
   ]
  },
  {
   "cell_type": "code",
   "execution_count": null,
   "id": "0d74ab76",
   "metadata": {},
   "outputs": [],
   "source": []
  }
 ],
 "metadata": {
  "kernelspec": {
   "display_name": "Python 3",
   "language": "python",
   "name": "python3"
  },
  "language_info": {
   "codemirror_mode": {
    "name": "ipython",
    "version": 3
   },
   "file_extension": ".py",
   "mimetype": "text/x-python",
   "name": "python",
   "nbconvert_exporter": "python",
   "pygments_lexer": "ipython3",
   "version": "3.8.8"
  }
 },
 "nbformat": 4,
 "nbformat_minor": 5
}
